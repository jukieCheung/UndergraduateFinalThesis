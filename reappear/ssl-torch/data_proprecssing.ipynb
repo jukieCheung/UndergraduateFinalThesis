{
 "cells": [
  {
   "cell_type": "code",
   "execution_count": null,
   "metadata": {},
   "outputs": [],
   "source": [
    "import numpy as np\n",
    "import pandas as pd\n",
    "from scipy import io\n",
    "import os\n"
   ]
  },
  {
   "cell_type": "markdown",
   "metadata": {},
   "source": [
    "将.mat文件转换成.npz\n",
    "并把时间序列reshape成长度为3000（也就是30s）的大小\n",
    "并把标签转换为one-hot编码"
   ]
  },
  {
   "cell_type": "code",
   "execution_count": null,
   "metadata": {},
   "outputs": [],
   "source": [
    "path1 = 'F:\\EDFProcessCode\\st_edfmat'\n",
    "path2 = 'F:\\EDFProcessCode\\st_edf_labels'\n",
    "\n",
    "for file_name1,file_name2 in zip(os.listdir(path1),os.listdir(path2)):\n",
    "    path11 = 'H:\\\\EEG\\\\st_edfmat\\\\'+file_name1\n",
    "    path22 = 'F:\\\\EDFProcessCode\\\\st_edf_labels\\\\'+file_name2\n",
    "    \n",
    "    t = pd.read_csv(path22,header=None)\n",
    "    df = pd.DataFrame(t)\n",
    "    df = np.array(df)\n",
    "    df_b = df.tolist()\n",
    "    for i in range(len(df_b)):\n",
    "        if df_b[i][0] == 6:\n",
    "            df_b[i][0]=0\n",
    "        elif df_b[i][0] == 5:\n",
    "            df_b[i][0]=4\n",
    "        elif df_b[i][0] == 4:\n",
    "            df_b[i][0]=1\n",
    "        elif df_b[i][0] == 3:\n",
    "            df_b[i][0]=2\n",
    "        elif df_b[i][0] == 2:\n",
    "            df_b[i][0]=3\n",
    "        elif df_b[i][0] == 1:\n",
    "            df_b[i][0]=3\n",
    "    df_b = pd.DataFrame(df_b,columns=[3000])\n",
    "    \n",
    "\n",
    "    data = io.loadmat(path11)\n",
    "    data = data['record'][1]\n",
    "    data = data.reshape((-1,3000))\n",
    "    data = pd.DataFrame(data)\n",
    "\n",
    "    dd_b = pd.concat([data,df_b],axis=1)\n",
    "    dd_b = dd_b.drop(dd_b[dd_b[3000] == -1].index)\n",
    "\n",
    "\n",
    "    x = dd_b.iloc[:,:-1]\n",
    "    bdd = dd_b.iloc[:,-1:]\n",
    "    bdd = np.array(bdd).tolist()\n",
    "    for l in range(len(bdd)):\n",
    "        if bdd[l][0] == 0:\n",
    "            bdd[l]=[1,0,0,0,0]\n",
    "        elif bdd[l][0] == 1:\n",
    "            bdd[l]=[0,1,0,0,0]\n",
    "        elif bdd[l][0] == 2:\n",
    "            bdd[l]=[0,0,1,0,0]\n",
    "        elif bdd[l][0] == 3:\n",
    "            bdd[l]=[0,0,0,1,0]\n",
    "        elif bdd[l][0] == 4:\n",
    "            bdd[l]=[0,0,0,0,1]\n",
    "\n",
    "    y = pd.DataFrame(bdd)\n",
    "    \n",
    "    np.savez('H:\\\\EEG\\\\truehot\\\\'+file_name1[:6]+'.npz', x=x,y=y)"
   ]
  },
  {
   "cell_type": "markdown",
   "metadata": {},
   "source": [
    "将所有受试者的.npz文件合并"
   ]
  },
  {
   "cell_type": "code",
   "execution_count": null,
   "metadata": {},
   "outputs": [],
   "source": [
    "\n",
    "data_all1 = [np.load('H:\\\\EEG\\\\SC4001.npz')]\n",
    "merged_data = {}\n",
    "for data in data_all1:\n",
    "    for k, v in data.items():\n",
    "        merged_data.update({k: v}) \n",
    "        \n",
    "patha = 'H:\\\\EEG\\\\testhot'\n",
    "file_list = []\n",
    "for file_name in os.listdir(patha):\n",
    "    file_list.append(file_name)        \n",
    "\n",
    "data_all = [np.load('H:\\\\EEG\\\\testhot\\\\'+fname) for fname in file_list]\n",
    "for data in data_all:\n",
    "    for k, v in data.items():\n",
    "        merged_data[k] = np.r_[merged_data[k],v]\n",
    "np.savez('H:\\\\EEG\\\\test3file.npz', **merged_data)"
   ]
  }
 ],
 "metadata": {
  "kernelspec": {
   "display_name": "Python 3.9.4 ('pytorch39': conda)",
   "language": "python",
   "name": "python3"
  },
  "language_info": {
   "name": "python",
   "version": "3.9.4"
  },
  "orig_nbformat": 4,
  "vscode": {
   "interpreter": {
    "hash": "72e8b7ba80a1fb838c430858788c3c42ddeb3cb2c591bc94339371e5067aa6c0"
   }
  }
 },
 "nbformat": 4,
 "nbformat_minor": 2
}
